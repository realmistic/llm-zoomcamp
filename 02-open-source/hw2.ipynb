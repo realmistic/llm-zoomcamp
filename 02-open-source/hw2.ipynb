{
 "cells": [
  {
   "cell_type": "markdown",
   "metadata": {},
   "source": [
    "# Q1\n",
    "* answer: 0.1.48"
   ]
  },
  {
   "cell_type": "code",
   "execution_count": 2,
   "metadata": {},
   "outputs": [
    {
     "name": "stdout",
     "output_type": "stream",
     "text": [
      "ollama version is 0.1.48\n"
     ]
    }
   ],
   "source": [
    "!docker exec -it ollama ollama -v"
   ]
  },
  {
   "cell_type": "code",
   "execution_count": 4,
   "metadata": {},
   "outputs": [
    {
     "name": "stdout",
     "output_type": "stream",
     "text": [
      "Client:\n",
      " Version:    26.1.3-1\n",
      " Context:    default\n",
      " Debug Mode: false\n",
      " Plugins:\n",
      "  buildx: Docker Buildx (Docker Inc.)\n",
      "    Version:  v0.14.1\n",
      "    Path:     /usr/libexec/docker/cli-plugins/docker-buildx\n",
      "  compose: Docker Compose (Docker Inc.)\n",
      "    Version:  v2.27.1\n",
      "    Path:     /usr/libexec/docker/cli-plugins/docker-compose\n",
      "\n",
      "Server:\n",
      " Containers: 2\n",
      "  Running: 1\n",
      "  Paused: 0\n",
      "  Stopped: 1\n",
      " Images: 3\n",
      " Server Version: 26.1.3-1\n",
      " Storage Driver: overlay2\n",
      "  Backing Filesystem: extfs\n",
      "  Supports d_type: true\n",
      "  Using metacopy: false\n",
      "  Native Overlay Diff: false\n",
      "  userxattr: false\n",
      " Logging Driver: json-file\n",
      " Cgroup Driver: cgroupfs\n",
      " Cgroup Version: 2\n",
      " Plugins:\n",
      "  Volume: local\n",
      "  Network: bridge host ipvlan macvlan null overlay\n",
      "  Log: awslogs fluentd gcplogs gelf journald json-file local splunk syslog\n",
      " Swarm: inactive\n",
      " Runtimes: io.containerd.runc.v2 runc\n",
      " Default Runtime: runc\n",
      " Init Binary: docker-init\n",
      " containerd version: 8b3b7ca2e5ce38e8f31a34f35b2b68ceb8470d89\n",
      " runc version: 51d5e94601ceffbbd85688df1c928ecccbfa4685\n",
      " init version: de40ad0\n",
      " Security Options:\n",
      "  apparmor\n",
      "  seccomp\n",
      "   Profile: builtin\n",
      "  cgroupns\n",
      " Kernel Version: 6.5.0-1022-azure\n",
      " Operating System: Ubuntu 20.04.6 LTS (containerized)\n",
      " OSType: linux\n",
      " Architecture: x86_64\n",
      " CPUs: 4\n",
      " Total Memory: 15.61GiB\n",
      " Name: codespaces-026455\n",
      " ID: 486ddb3c-464b-4674-8bb9-754b8d565e2b\n",
      " Docker Root Dir: /var/lib/docker\n",
      " Debug Mode: false\n",
      " Username: codespacesdev\n",
      " Experimental: false\n",
      " Insecure Registries:\n",
      "  127.0.0.0/8\n",
      " Live Restore Enabled: false\n",
      "\n"
     ]
    }
   ],
   "source": [
    "!docker info"
   ]
  },
  {
   "cell_type": "markdown",
   "metadata": {},
   "source": [
    "# Q2"
   ]
  },
  {
   "cell_type": "markdown",
   "metadata": {},
   "source": [
    "* Join the container: Enter the running ollama container:\n",
    "```bash\n",
    "docker exec -it ollama /bin/bash\n",
    "```\n",
    "* Pull the model: \n",
    "```bash\n",
    "ollama pull gemma:2b\n",
    "```\n",
    "* CD to a library: \n",
    "```bash\n",
    "cd /root/.ollama/models/manifests/registry.ollama.ai/library\n",
    "```\n",
    "* LS\n",
    "```bash\n",
    "ls\n",
    "```\n",
    "* cat file:\n",
    "```bash\n",
    "cat gemma/2b\n",
    "```\n",
    "\n",
    "Output:"
   ]
  },
  {
   "cell_type": "markdown",
   "metadata": {},
   "source": [
    "{\"schemaVersion\":2,\"mediaType\":\"application/vnd.docker.distribution.manifest.v2+json\",\"config\":{\"mediaType\":\"application/vnd.docker.container.image.v1+json\",\"digest\":\"sha256:887433b89a901c156f7e6944442f3c9e57f3c55d6ed52042cbb7303aea994290\",\"size\":483},\"layers\":[{\"mediaType\":\"application/vnd.ollama.image.model\",\"digest\":\"sha256:c1864a5eb19305c40519da12cc543519e48a0697ecd30e15d5ac228644957d12\",\"size\":1678447520},{\"mediaType\":\"application/vnd.ollama.image.license\",\"digest\":\"sha256:097a36493f718248845233af1d3fefe7a303f864fae13bc31a3a9704229378ca\",\"size\":8433},{\"mediaType\":\"application/vnd.ollama.image.template\",\"digest\":\"sha256:109037bec39c0becc8221222ae23557559bc594290945a2c4221ab4f303b8871\",\"size\":136},{\"mediaType\":\"application/vnd.ollama.image.params\",\"digest\":\"sha256:22a838ceb7fb22755a3b0ae9b4eadde629d19be1f651f73efb8c6b4e2cd0eea0\",\"size\":84}]}"
   ]
  },
  {
   "cell_type": "markdown",
   "metadata": {},
   "source": [
    "# Q3"
   ]
  },
  {
   "cell_type": "markdown",
   "metadata": {},
   "source": [
    "* Join the container: Enter the running ollama container:\n",
    "```bash \n",
    "docker exec -it ollama /bin/bash\n",
    "```\n",
    "* Run the model \n",
    "```bash \n",
    "ollama run gemma2`\n",
    "```\n",
    "\n",
    "* Make the prompt: \n",
    "```bash \n",
    " >>> \"10 * 10\"` \n",
    "```\n",
    "\n",
    "'Output:' : \"10 * 10 = 100\"\n"
   ]
  },
  {
   "cell_type": "markdown",
   "metadata": {},
   "source": [
    "Model Info: \n",
    "```bash\n",
    ">>> /show info\n",
    "```\n",
    "Output: \n",
    "\n",
    "  Model                             \n",
    "        arch                    gemma2              \n",
    "        parameters              9.2B                \n",
    "        quantization            Q4_0                \n",
    "        context length          8192                \n",
    "        embedding length        3584                \n",
    "                                          \n",
    "  Parameters                        \n",
    "        num_ctx         4096                       \n",
    "        repeat_penalty  1                          \n",
    "        stop            \"<start_of_turn>\"          \n",
    "        stop            \"<end_of_turn>\"            \n",
    "                                          \n",
    "  License                           \n",
    "        Gemma Terms of Use                        \n",
    "        Last modified: February 21, 2024       "
   ]
  },
  {
   "cell_type": "markdown",
   "metadata": {},
   "source": [
    "# Q4\n",
    "* answer 1.6G (closest: 1.7G)"
   ]
  },
  {
   "cell_type": "markdown",
   "metadata": {},
   "source": [
    "* 1) Creating a new dir:\n",
    "```bash \n",
    "mkdir ollama_files\n",
    "```\n",
    "* 2) Stopping  ollama container (exisitng one):\n",
    "```bash \n",
    "docker stop ollama\n",
    "```\n",
    "\n",
    "* 3) Removing ollama (exisitng prev container)\n",
    "```bash \n",
    "docker rm ollama\n",
    "```\n",
    "\n"
   ]
  },
  {
   "cell_type": "markdown",
   "metadata": {},
   "source": [
    "* 4) Run a new container with a folder mount\n",
    "```bash \n",
    "docker run -it \\\n",
    "    --rm \\\n",
    "    -v ./ollama_files:/root/.ollama \\\n",
    "    -p 11434:11434 \\\n",
    "    --name ollama \\\n",
    "    ollama/ollama\n",
    "```"
   ]
  },
  {
   "cell_type": "markdown",
   "metadata": {},
   "source": [
    "* 5) Pull the model again to a local folder:\n",
    "```bash \n",
    "docker exec -it ollama ollama pull gemma:2b \n",
    "```"
   ]
  },
  {
   "cell_type": "markdown",
   "metadata": {},
   "source": []
  },
  {
   "cell_type": "code",
   "execution_count": 10,
   "metadata": {},
   "outputs": [
    {
     "name": "stdout",
     "output_type": "stream",
     "text": [
      "1.6G\tollama_files/models\n"
     ]
    }
   ],
   "source": [
    "!du -sh ollama_files/models"
   ]
  },
  {
   "cell_type": "markdown",
   "metadata": {},
   "source": [
    "# Q5 Adding the weights\n"
   ]
  },
  {
   "cell_type": "markdown",
   "metadata": {},
   "source": [
    "To copy the downloaded model files from the ollama_files/models directory to the new Docker image, you can use the following COPY instruction in the Dockerfile:"
   ]
  },
  {
   "cell_type": "markdown",
   "metadata": {},
   "source": [
    "```Dockerfile\n",
    "FROM ollama/ollama\n",
    "\n",
    "COPY ollama_files/models /root/.ollama/models\n",
    "```"
   ]
  },
  {
   "cell_type": "markdown",
   "metadata": {},
   "source": [
    "# Q6 Serving it"
   ]
  },
  {
   "cell_type": "markdown",
   "metadata": {},
   "source": [
    "* 6) Building a new image: \n",
    "```bash \n",
    "docker build -t ollama-gemma2b .\n",
    "```"
   ]
  },
  {
   "cell_type": "markdown",
   "metadata": {},
   "source": [
    "* 7) 11434 is busy - finding a container using it: \n",
    "```bash \n",
    " docker ps -a | grep 11434\n",
    "```\n",
    " => get the container id (2e6e47ba0d21)\n",
    "\n",
    "* 8) Stopping that contrainer\n",
    "```bash \n",
    " docker stop 2e6e47ba0d21\n",
    "```"
   ]
  },
  {
   "cell_type": "markdown",
   "metadata": {},
   "source": [
    "* 9) Running a new docker image:\n",
    "```bash \n",
    "docker run -it --rm -p 11434:11434 ollama-gemma2b\n",
    "```"
   ]
  },
  {
   "cell_type": "code",
   "execution_count": 24,
   "metadata": {},
   "outputs": [
    {
     "name": "stdout",
     "output_type": "stream",
     "text": [
      "404 page not found"
     ]
    }
   ],
   "source": [
    "!curl -X GET http://localhost:11434/v1/models/list"
   ]
  },
  {
   "cell_type": "markdown",
   "metadata": {},
   "source": [
    "* OpenAI Compatibility:\n",
    "https://ollama.com/blog/openai-compatibility"
   ]
  },
  {
   "cell_type": "code",
   "execution_count": 17,
   "metadata": {},
   "outputs": [],
   "source": [
    "from openai import OpenAI\n",
    "\n",
    "client = OpenAI(\n",
    "    base_url='http://localhost:11434/v1/',\n",
    "    api_key='ollama',\n",
    ")"
   ]
  },
  {
   "cell_type": "code",
   "execution_count": 29,
   "metadata": {},
   "outputs": [],
   "source": [
    "def llm(prompt):\n",
    "    response = client.chat.completions.create(\n",
    "        model='gemma:2b',\n",
    "        temperature= 0.0,\n",
    "        messages=[{\"role\": \"user\", \"content\": prompt}]\n",
    "    )\n",
    "    \n",
    "    return response"
   ]
  },
  {
   "cell_type": "code",
   "execution_count": 30,
   "metadata": {},
   "outputs": [],
   "source": [
    "prompt = \"What's the formula for energy?\"\n",
    "\n",
    "response = llm(prompt=prompt)"
   ]
  },
  {
   "cell_type": "code",
   "execution_count": 33,
   "metadata": {},
   "outputs": [
    {
     "data": {
      "text/plain": [
       "\"Sure, here's the formula for energy:\\n\\n**E = K + U**\\n\\nWhere:\\n\\n* **E** is the energy in joules (J)\\n* **K** is the kinetic energy in joules (J)\\n* **U** is the potential energy in joules (J)\\n\\n**Kinetic energy (K)** is the energy an object possesses when it moves or is in motion. It is calculated as half the product of an object's mass (m) and its velocity (v) squared:\\n\\n**K = 1/2 * m * v^2**\\n\\n**Potential energy (U)** is the energy an object possesses when it is in a position or has a specific configuration. It is calculated as the product of an object's mass and the gravitational constant (g) multiplied by the height or distance of the object from a reference point.\\n\\n**Gravitational potential energy (U)** is given by the formula:\\n\\n**U = mgh**\\n\\nWhere:\\n\\n* **m** is the mass of the object in kilograms (kg)\\n* **g** is the acceleration due to gravity in meters per second squared (m/s^2)\\n* **h** is the height or distance of the object in meters (m)\\n\\nThe formula for energy can be used to calculate the total energy of an object, the energy of a specific part of an object, or the change in energy of an object over time.\""
      ]
     },
     "execution_count": 33,
     "metadata": {},
     "output_type": "execute_result"
    }
   ],
   "source": [
    "response.choices[0].message.content"
   ]
  },
  {
   "cell_type": "code",
   "execution_count": 34,
   "metadata": {},
   "outputs": [
    {
     "data": {
      "text/plain": [
       "CompletionUsage(completion_tokens=304, prompt_tokens=0, total_tokens=304)"
      ]
     },
     "execution_count": 34,
     "metadata": {},
     "output_type": "execute_result"
    }
   ],
   "source": [
    "response.usage"
   ]
  },
  {
   "cell_type": "code",
   "execution_count": 35,
   "metadata": {},
   "outputs": [
    {
     "data": {
      "text/plain": [
       "304"
      ]
     },
     "execution_count": 35,
     "metadata": {},
     "output_type": "execute_result"
    }
   ],
   "source": [
    "response.usage.completion_tokens"
   ]
  },
  {
   "cell_type": "code",
   "execution_count": null,
   "metadata": {},
   "outputs": [],
   "source": []
  }
 ],
 "metadata": {
  "kernelspec": {
   "display_name": "Python 3 (ipykernel)",
   "language": "python",
   "name": "python3"
  },
  "language_info": {
   "codemirror_mode": {
    "name": "ipython",
    "version": 3
   },
   "file_extension": ".py",
   "mimetype": "text/x-python",
   "name": "python",
   "nbconvert_exporter": "python",
   "pygments_lexer": "ipython3",
   "version": "3.10.13"
  }
 },
 "nbformat": 4,
 "nbformat_minor": 2
}
