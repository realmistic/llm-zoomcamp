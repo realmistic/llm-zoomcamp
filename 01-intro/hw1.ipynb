{
 "cells": [
  {
   "cell_type": "code",
   "execution_count": null,
   "id": "f75c0ce5-2536-4569-b628-8869edbdf285",
   "metadata": {},
   "outputs": [],
   "source": [
    "import openai\n",
    "from openai import OpenAI"
   ]
  },
  {
   "cell_type": "code",
   "execution_count": null,
   "id": "e3e0f7cb-a4fa-4016-892e-6ea6ae876dfa",
   "metadata": {},
   "outputs": [],
   "source": [
    "# client = OpenAI()\n",
    "# response = client.chat.completions.create(\n",
    "#     model='gpt-4o',\n",
    "#     messages=[{\"role\":\"user\",\n",
    "#                \"content\":\"is it too late to join the course Stock Market Analytics Zoomcamp?\"}]\n",
    "# )\n",
    "\n",
    "# r = response.choices[0].message.content\n",
    "\n",
    "# from pprint import pprint\n",
    "# pprint(r)"
   ]
  },
  {
   "cell_type": "code",
   "execution_count": null,
   "id": "5a295829",
   "metadata": {},
   "outputs": [],
   "source": [
    "import requests \n",
    "\n",
    "docs_url = 'https://github.com/DataTalksClub/llm-zoomcamp/blob/main/01-intro/documents.json?raw=1'\n",
    "docs_response = requests.get(docs_url)\n",
    "documents_raw = docs_response.json()\n",
    "\n",
    "documents = []\n",
    "\n",
    "for course in documents_raw:\n",
    "    course_name = course['course']\n",
    "\n",
    "    for doc in course['documents']:\n",
    "        doc['course'] = course_name\n",
    "        documents.append(doc)"
   ]
  },
  {
   "cell_type": "code",
   "execution_count": null,
   "id": "6899cc54",
   "metadata": {},
   "outputs": [],
   "source": [
    "documents[0]"
   ]
  },
  {
   "cell_type": "markdown",
   "id": "de026c83",
   "metadata": {},
   "source": [
    "docker run -it \\\n",
    "    --rm \\\n",
    "    --name elasticsearch \\\n",
    "    -p 9200:9200 \\\n",
    "    -p 9300:9300 \\\n",
    "    -e \"discovery.type=single-node\" \\\n",
    "    -e \"xpack.security.enabled=false\" \\\n",
    "    docker.elastic.co/elasticsearch/elasticsearch:8.4.3"
   ]
  },
  {
   "cell_type": "code",
   "execution_count": null,
   "id": "86a7c6d3",
   "metadata": {},
   "outputs": [],
   "source": [
    "from elasticsearch import Elasticsearch\n"
   ]
  },
  {
   "cell_type": "code",
   "execution_count": null,
   "id": "c6edef24",
   "metadata": {},
   "outputs": [],
   "source": [
    "es_client = Elasticsearch('http://localhost:9200') \n"
   ]
  },
  {
   "cell_type": "code",
   "execution_count": null,
   "id": "b4ca64b3",
   "metadata": {},
   "outputs": [],
   "source": [
    "es_client.info()"
   ]
  },
  {
   "cell_type": "code",
   "execution_count": null,
   "id": "6eb50021",
   "metadata": {},
   "outputs": [],
   "source": [
    "index_settings = {\n",
    "    \"settings\": {\n",
    "        \"number_of_shards\": 1,\n",
    "        \"number_of_replicas\": 0\n",
    "    },\n",
    "    \"mappings\": {\n",
    "        \"properties\": {\n",
    "            \"text\": {\"type\": \"text\"},\n",
    "            \"section\": {\"type\": \"text\"},\n",
    "            \"question\": {\"type\": \"text\"},\n",
    "            \"course\": {\"type\": \"keyword\"} \n",
    "        }\n",
    "    }\n",
    "}\n",
    "\n",
    "index_name = \"course-questions\"\n",
    "\n",
    "# Delete the index if it already exists\n",
    "if es_client.indices.exists(index=index_name):\n",
    "    es_client.indices.delete(index=index_name)\n",
    "    print(f\"Deleted existing index: {index_name}\")\n",
    "\n",
    "es_client.indices.create(index=index_name, body=index_settings, )"
   ]
  },
  {
   "cell_type": "code",
   "execution_count": null,
   "id": "1cab5a08",
   "metadata": {},
   "outputs": [],
   "source": [
    "from tqdm import tqdm"
   ]
  },
  {
   "cell_type": "code",
   "execution_count": null,
   "id": "f9df566e",
   "metadata": {},
   "outputs": [],
   "source": [
    "for doc in tqdm(documents):\n",
    "    es_client.index(index=index_name, document=doc)"
   ]
  },
  {
   "cell_type": "code",
   "execution_count": null,
   "id": "4f259692",
   "metadata": {},
   "outputs": [],
   "source": [
    "query = 'How do I execute a command in a running docker container?'"
   ]
  },
  {
   "cell_type": "code",
   "execution_count": null,
   "id": "34a712cc",
   "metadata": {},
   "outputs": [],
   "source": [
    "def elastic_search(query, index_name = \"course-questions\"):\n",
    "    search_query = {\n",
    "        \"size\": 5,\n",
    "        \"query\": {\n",
    "            \"bool\": {\n",
    "                \"must\": {\n",
    "                    \"multi_match\": {\n",
    "                        \"query\": query,\n",
    "                        \"fields\": [\"question^4\", \"text\"],\n",
    "                        \"type\": \"best_fields\"\n",
    "                    }\n",
    "                },\n",
    "                \"filter\": {\n",
    "                    \"term\": {\n",
    "                        \"course\": \"data-engineering-zoomcamp\"\n",
    "                    }\n",
    "                }\n",
    "            }\n",
    "        }\n",
    "    }\n",
    "\n",
    "    response = es_client.search(index=index_name, body=search_query)\n",
    "    \n",
    "    result_docs = []\n",
    "    \n",
    "    for hit in response['hits']['hits']:\n",
    "        to_append_dict = hit['_source']\n",
    "        to_append_dict['score'] = hit['_score']\n",
    "        result_docs.append(to_append_dict)\n",
    "        # result_docs.append(hit['_source'])\n",
    "        # result_docs.append(hit['_score'])\n",
    "        \n",
    "    \n",
    "    return result_docs"
   ]
  },
  {
   "cell_type": "code",
   "execution_count": null,
   "id": "21aba0a2",
   "metadata": {},
   "outputs": [],
   "source": [
    "elastic_search(query=query)"
   ]
  },
  {
   "cell_type": "markdown",
   "id": "5bd4f915",
   "metadata": {},
   "source": [
    "# Q4"
   ]
  },
  {
   "cell_type": "code",
   "execution_count": null,
   "id": "931d8627",
   "metadata": {},
   "outputs": [],
   "source": [
    "ml_zoomcamp_index = \"ml-zoomcamp-questions\"\n",
    "\n",
    "# Delete the index if it already exists\n",
    "if es_client.indices.exists(index=ml_zoomcamp_index):\n",
    "    es_client.indices.delete(index=ml_zoomcamp_index)\n",
    "    print(f\"Deleted existing index: {ml_zoomcamp_index}\")\n",
    "\n",
    "es_client.indices.create(index=ml_zoomcamp_index, body=index_settings, )"
   ]
  },
  {
   "cell_type": "code",
   "execution_count": null,
   "id": "c3aec581",
   "metadata": {},
   "outputs": [],
   "source": [
    "documents[0:5]"
   ]
  },
  {
   "cell_type": "code",
   "execution_count": null,
   "id": "838aa1ac",
   "metadata": {},
   "outputs": [],
   "source": [
    "for doc in tqdm(documents):\n",
    "    if doc['course'] == 'machine-learning-zoomcamp':\n",
    "        es_client.index(index=ml_zoomcamp_index, document=doc)"
   ]
  },
  {
   "cell_type": "code",
   "execution_count": null,
   "id": "c6789bf9",
   "metadata": {},
   "outputs": [],
   "source": [
    "elastic_search(query=query, index_name= ml_zoomcamp_index)"
   ]
  }
 ],
 "metadata": {
  "kernelspec": {
   "display_name": "Python 3 (ipykernel)",
   "language": "python",
   "name": "python3"
  },
  "language_info": {
   "codemirror_mode": {
    "name": "ipython",
    "version": 3
   },
   "file_extension": ".py",
   "mimetype": "text/x-python",
   "name": "python",
   "nbconvert_exporter": "python",
   "pygments_lexer": "ipython3",
   "version": "3.10.13"
  }
 },
 "nbformat": 4,
 "nbformat_minor": 5
}
